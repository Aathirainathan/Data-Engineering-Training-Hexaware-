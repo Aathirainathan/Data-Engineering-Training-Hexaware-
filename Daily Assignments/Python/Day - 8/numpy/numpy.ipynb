{
 "cells": [
  {
   "cell_type": "code",
   "execution_count": 1,
   "id": "d95c7b28-d4c9-44fd-a44d-d2f6f0994403",
   "metadata": {},
   "outputs": [
    {
     "name": "stdout",
     "output_type": "stream",
     "text": [
      "[20.1 20.8 21.9 22.5 22.7 22.3 21.8 21.2 20.9 20.1]\n"
     ]
    }
   ],
   "source": [
    "#how to read numpy values\n",
    "import numpy as np\n",
    "cvalues = [20.1, 20.8, 21.9, 22.5, 22.7, 22.3, 21.8, 21.2, 20.9, 20.1]\n",
    "c=np.array(cvalues)\n",
    "print(c)"
   ]
  },
  {
   "cell_type": "code",
   "execution_count": 5,
   "id": "0932e7ec-09cf-4055-a83e-b49e9c3e8488",
   "metadata": {},
   "outputs": [
    {
     "name": "stdout",
     "output_type": "stream",
     "text": [
      "[68.18 69.44 71.42 72.5  72.86 72.14 71.24 70.16 69.62 68.18]\n"
     ]
    },
    {
     "data": {
      "text/plain": [
       "numpy.ndarray"
      ]
     },
     "execution_count": 5,
     "metadata": {},
     "output_type": "execute_result"
    }
   ],
   "source": [
    "#Print algebric expression in numpy values(celcius to farenheit) & type of data\n",
    "import numpy as np\n",
    "cvalues = [20.1, 20.8, 21.9, 22.5, 22.7, 22.3, 21.8, 21.2, 20.9, 20.1]\n",
    "c=np.array(cvalues)\n",
    "print((c*9/5)+32)\n",
    "type(c)"
   ]
  },
  {
   "cell_type": "code",
   "execution_count": 13,
   "id": "05864b0c-204f-44ba-b2f4-37f2fb2c4887",
   "metadata": {},
   "outputs": [
    {
     "name": "stdout",
     "output_type": "stream",
     "text": [
      "[1 2 3 4 5 6 7 8 9]\n",
      "range(1, 10)\n"
     ]
    }
   ],
   "source": [
    "#Arange in numpy\n",
    "import numpy as np\n",
    "a = np.arange(1, 10)\n",
    "print(a)\n",
    "\n",
    "#iterator program\n",
    "x=range(1,10)\n",
    "print(x)"
   ]
  },
  {
   "cell_type": "code",
   "execution_count": 23,
   "id": "53b49135-6abe-4db3-9163-b2c1807967fb",
   "metadata": {},
   "outputs": [
    {
     "name": "stdout",
     "output_type": "stream",
     "text": [
      "[1]\n"
     ]
    }
   ],
   "source": [
    "#rounding values using numpy\n",
    "import numpy as np\n",
    "x=np.arange(1.2,2.2,3.4,int)\n",
    "print(x)"
   ]
  },
  {
   "cell_type": "code",
   "execution_count": 45,
   "id": "3f0119b0-9bd3-4840-b31b-d62320220eb8",
   "metadata": {},
   "outputs": [
    {
     "name": "stdout",
     "output_type": "stream",
     "text": [
      "[  1.  12.  23.  34.  45.  56.  67.  78.  89. 100.]\n",
      "[ 1.  10.9 20.8 30.7 40.6 50.5 60.4 70.3 80.2 90.1]\n"
     ]
    }
   ],
   "source": [
    "#equally spaced values as output\n",
    "import numpy as np\n",
    "print(np.linspace(1, 100, 10))\n",
    "print(np.linspace(1, 100, 10,endpoint=False))\n"
   ]
  },
  {
   "cell_type": "code",
   "execution_count": 41,
   "id": "1ce223a8-9c35-44d6-bf94-55f00e5bdfea",
   "metadata": {},
   "outputs": [
    {
     "name": "stdout",
     "output_type": "stream",
     "text": [
      "(array([  1.  ,  25.75,  50.5 ,  75.25, 100.  ]), np.float64(24.75))\n"
     ]
    }
   ],
   "source": [
    "#equally spaced values as output and find out the adjacent value\n",
    "import numpy as np\n",
    "print(np.linspace(1, 100, 5,retstep=True))"
   ]
  },
  {
   "cell_type": "code",
   "execution_count": null,
   "id": "e7a677b8-8f3f-41de-a994-6bcddf070cb4",
   "metadata": {},
   "outputs": [],
   "source": []
  }
 ],
 "metadata": {
  "kernelspec": {
   "display_name": "Python 3 (ipykernel)",
   "language": "python",
   "name": "python3"
  },
  "language_info": {
   "codemirror_mode": {
    "name": "ipython",
    "version": 3
   },
   "file_extension": ".py",
   "mimetype": "text/x-python",
   "name": "python",
   "nbconvert_exporter": "python",
   "pygments_lexer": "ipython3",
   "version": "3.12.6"
  }
 },
 "nbformat": 4,
 "nbformat_minor": 5
}
