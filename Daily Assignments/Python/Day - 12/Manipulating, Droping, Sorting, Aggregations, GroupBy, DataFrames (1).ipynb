{
 "cells": [
  {
   "cell_type": "code",
   "execution_count": 0,
   "metadata": {
    "application/vnd.databricks.v1+cell": {
     "cellMetadata": {
      "byteLimit": 2048000,
      "rowLimit": 10000
     },
     "inputWidgets": {},
     "nuid": "63993adc-e20b-4987-8456-b02973974ab7",
     "showTitle": false,
     "tableResultSettingsMap": {},
     "title": ""
    }
   },
   "outputs": [
    {
     "output_type": "stream",
     "name": "stdout",
     "output_type": "stream",
     "text": [
      "root\n |-- employee_name: string (nullable = true)\n |-- department: string (nullable = true)\n |-- state: string (nullable = true)\n |-- salary: long (nullable = true)\n |-- age: long (nullable = true)\n |-- bonus: long (nullable = true)\n\n+-------------+----------+-----+------+---+-----+\n|employee_name|department|state|salary|age|bonus|\n+-------------+----------+-----+------+---+-----+\n|        James|     Sales|   NY| 90000| 34|10000|\n|      Michael|     Sales|   NY| 86000| 56|20000|\n|       Robert|     Sales|   CA| 81000| 30|23000|\n|        Maria|   Finance|   CA| 90000| 24|23000|\n|        Raman|   Finance|   CA| 99000| 40|24000|\n|        Scott|   Finance|   NY| 83000| 36|19000|\n|          Jen|   Finance|   NY| 79000| 53|15000|\n|         Jeff| Marketing|   CA| 80000| 25|18000|\n|        Kumar| Marketing|   NY| 91000| 50|21000|\n+-------------+----------+-----+------+---+-----+\n\n"
     ]
    }
   ],
   "source": [
    "from pyspark.sql import SparkSession\n",
    "\n",
    "# Initialize SparkSession\n",
    "spark = SparkSession.builder \\\n",
    "    .appName(\"example\") \\\n",
    "    .getOrCreate()\n",
    "\n",
    "# Data\n",
    "simpleData = [\n",
    "    (\"James\",\"Sales\",\"NY\",90000,34,10000), \n",
    "    (\"Michael\",\"Sales\",\"NY\",86000,56,20000), \n",
    "    (\"Robert\",\"Sales\",\"CA\",81000,30,23000), \n",
    "    (\"Maria\",\"Finance\",\"CA\",90000,24,23000), \n",
    "    (\"Raman\",\"Finance\",\"CA\",99000,40,24000), \n",
    "    (\"Scott\",\"Finance\",\"NY\",83000,36,19000), \n",
    "    (\"Jen\",\"Finance\",\"NY\",79000,53,15000), \n",
    "    (\"Jeff\",\"Marketing\",\"CA\",80000,25,18000), \n",
    "    (\"Kumar\",\"Marketing\",\"NY\",91000,50,21000)\n",
    "]\n",
    "\n",
    "# Create DataFrame\n",
    "schema = [\"employee_name\", \"department\", \"state\", \"salary\", \"age\", \"bonus\"]\n",
    "df = spark.createDataFrame(data=simpleData, schema=schema)\n",
    "\n",
    "# Print schema\n",
    "df.printSchema()\n",
    "df.show()\n"
   ]
  },
  {
   "cell_type": "code",
   "execution_count": 0,
   "metadata": {
    "application/vnd.databricks.v1+cell": {
     "cellMetadata": {
      "byteLimit": 2048000,
      "rowLimit": 10000
     },
     "inputWidgets": {},
     "nuid": "655f984b-7e19-4a81-a4be-454346bb122b",
     "showTitle": false,
     "tableResultSettingsMap": {},
     "title": ""
    }
   },
   "outputs": [
    {
     "output_type": "stream",
     "name": "stdout",
     "output_type": "stream",
     "text": [
      "+----------+-----------+\n|department|sum(salary)|\n+----------+-----------+\n|     Sales|     257000|\n|   Finance|     351000|\n| Marketing|     171000|\n+----------+-----------+\n\n"
     ]
    }
   ],
   "source": [
    "#groupby with sum of salaries\n",
    "\n",
    "sum_data=df.groupBy(\"department\").sum(\"salary\")\n",
    "sum_data.show()"
   ]
  },
  {
   "cell_type": "code",
   "execution_count": 0,
   "metadata": {
    "application/vnd.databricks.v1+cell": {
     "cellMetadata": {
      "byteLimit": 2048000,
      "rowLimit": 10000
     },
     "inputWidgets": {},
     "nuid": "f13ae8f4-1975-415e-bb0f-3176156b7ce0",
     "showTitle": false,
     "tableResultSettingsMap": {},
     "title": ""
    }
   },
   "outputs": [
    {
     "output_type": "stream",
     "name": "stdout",
     "output_type": "stream",
     "text": [
      "+----------+-----------+\n|department|min(salary)|\n+----------+-----------+\n|     Sales|      81000|\n|   Finance|      79000|\n| Marketing|      80000|\n+----------+-----------+\n\n+----------+-----------+\n|department|max(salary)|\n+----------+-----------+\n|     Sales|      90000|\n|   Finance|      99000|\n| Marketing|      91000|\n+----------+-----------+\n\n+----------+-----------------+\n|department|      avg(salary)|\n+----------+-----------------+\n|     Sales|85666.66666666667|\n|   Finance|          87750.0|\n| Marketing|          85500.0|\n+----------+-----------------+\n\n+----------+-----------------+\n|department|      avg(salary)|\n+----------+-----------------+\n|     Sales|85666.66666666667|\n|   Finance|          87750.0|\n| Marketing|          85500.0|\n+----------+-----------------+\n\n+----------+-----------------+\n|department|      avg(salary)|\n+----------+-----------------+\n|     Sales|85666.66666666667|\n|   Finance|          87750.0|\n| Marketing|          85500.0|\n+----------+-----------------+\n\n+----------+-----+\n|department|count|\n+----------+-----+\n|     Sales|    3|\n|   Finance|    4|\n| Marketing|    2|\n+----------+-----+\n\n"
     ]
    }
   ],
   "source": [
    "#groupBy\n",
    "sum_data=df.groupBy(\"department\").min(\"salary\").show()\n",
    "sum_data=df.groupBy(\"department\").max(\"salary\").show()\n",
    "sum_data=df.groupBy(\"department\").avg(\"salary\").show()\n",
    "sum_data=df.groupBy(\"department\").avg(\"salary\").show()\n",
    "sum_data=df.groupBy(\"department\").mean(\"salary\").show()\n",
    "sum_data=df.groupBy(\"department\").count().show()"
   ]
  },
  {
   "cell_type": "code",
   "execution_count": 0,
   "metadata": {
    "application/vnd.databricks.v1+cell": {
     "cellMetadata": {
      "byteLimit": 2048000,
      "rowLimit": 10000
     },
     "inputWidgets": {},
     "nuid": "d136a357-a3ee-429f-a256-4c5a647f8aaf",
     "showTitle": false,
     "tableResultSettingsMap": {},
     "title": ""
    }
   },
   "outputs": [
    {
     "output_type": "stream",
     "name": "stdout",
     "output_type": "stream",
     "text": [
      "+-------------+----------+-----------+\n|employee_name|department|min(salary)|\n+-------------+----------+-----------+\n|        James|     Sales|      90000|\n|      Michael|     Sales|      86000|\n|       Robert|     Sales|      81000|\n|        Maria|   Finance|      90000|\n|        Raman|   Finance|      99000|\n|        Scott|   Finance|      83000|\n|          Jen|   Finance|      79000|\n|         Jeff| Marketing|      80000|\n|        Kumar| Marketing|      91000|\n+-------------+----------+-----------+\n\n+-------------+----------+-----------+\n|employee_name|department|max(salary)|\n+-------------+----------+-----------+\n|        James|     Sales|      90000|\n|      Michael|     Sales|      86000|\n|       Robert|     Sales|      81000|\n|        Maria|   Finance|      90000|\n|        Raman|   Finance|      99000|\n|        Scott|   Finance|      83000|\n|          Jen|   Finance|      79000|\n|         Jeff| Marketing|      80000|\n|        Kumar| Marketing|      91000|\n+-------------+----------+-----------+\n\n+-------------+----------+-----------+\n|employee_name|department|avg(salary)|\n+-------------+----------+-----------+\n|        James|     Sales|    90000.0|\n|      Michael|     Sales|    86000.0|\n|       Robert|     Sales|    81000.0|\n|        Maria|   Finance|    90000.0|\n|        Raman|   Finance|    99000.0|\n|        Scott|   Finance|    83000.0|\n|          Jen|   Finance|    79000.0|\n|         Jeff| Marketing|    80000.0|\n|        Kumar| Marketing|    91000.0|\n+-------------+----------+-----------+\n\n+-------------+----------+-----------+\n|employee_name|department|avg(salary)|\n+-------------+----------+-----------+\n|        James|     Sales|    90000.0|\n|      Michael|     Sales|    86000.0|\n|       Robert|     Sales|    81000.0|\n|        Maria|   Finance|    90000.0|\n|        Raman|   Finance|    99000.0|\n|        Scott|   Finance|    83000.0|\n|          Jen|   Finance|    79000.0|\n|         Jeff| Marketing|    80000.0|\n|        Kumar| Marketing|    91000.0|\n+-------------+----------+-----------+\n\n+-------------+----------+-----------+\n|employee_name|department|avg(salary)|\n+-------------+----------+-----------+\n|        James|     Sales|    90000.0|\n|      Michael|     Sales|    86000.0|\n|       Robert|     Sales|    81000.0|\n|        Maria|   Finance|    90000.0|\n|        Raman|   Finance|    99000.0|\n|        Scott|   Finance|    83000.0|\n|          Jen|   Finance|    79000.0|\n|         Jeff| Marketing|    80000.0|\n|        Kumar| Marketing|    91000.0|\n+-------------+----------+-----------+\n\n+-------------+----------+-----+\n|employee_name|department|count|\n+-------------+----------+-----+\n|        James|     Sales|    1|\n|      Michael|     Sales|    1|\n|       Robert|     Sales|    1|\n|        Maria|   Finance|    1|\n|        Raman|   Finance|    1|\n|        Scott|   Finance|    1|\n|          Jen|   Finance|    1|\n|         Jeff| Marketing|    1|\n|        Kumar| Marketing|    1|\n+-------------+----------+-----+\n\n"
     ]
    }
   ],
   "source": [
    "#groupBy multiple columns\n",
    "sum_data=df.groupBy(\"employee_name\",\"department\").min(\"salary\").show()\n",
    "sum_data=df.groupBy(\"employee_name\",\"department\").max(\"salary\").show()\n",
    "sum_data=df.groupBy(\"employee_name\",\"department\").avg(\"salary\").show()\n",
    "sum_data=df.groupBy(\"employee_name\",\"department\").avg(\"salary\").show()\n",
    "sum_data=df.groupBy(\"employee_name\",\"department\").mean(\"salary\").show()\n",
    "sum_data=df.groupBy(\"employee_name\",\"department\").count().show()"
   ]
  },
  {
   "cell_type": "code",
   "execution_count": 0,
   "metadata": {
    "application/vnd.databricks.v1+cell": {
     "cellMetadata": {
      "byteLimit": 2048000,
      "rowLimit": 10000
     },
     "inputWidgets": {},
     "nuid": "dc5789ec-d2f8-4490-8de3-2b7c530ef296",
     "showTitle": false,
     "tableResultSettingsMap": {},
     "title": ""
    },
    "jupyter": {
     "outputs_hidden": true
    }
   },
   "outputs": [
    {
     "output_type": "stream",
     "name": "stdout",
     "output_type": "stream",
     "text": [
      "+----------+-----------+\n|department|sum(salary)|\n+----------+-----------+\n|     Sales|     257000|\n|   Finance|     351000|\n| Marketing|     171000|\n+----------+-----------+\n\n+-----------+\n|sum(salary)|\n+-----------+\n|     779000|\n+-----------+\n\n"
     ]
    }
   ],
   "source": [
    "#groupBy and aggregation\n",
    "df.groupBy(\"department\").agg(({\"salary\":\"sum\"})).show()\n",
    "#without groupby\n",
    "df.agg(({\"salary\":\"sum\"})).show()"
   ]
  },
  {
   "cell_type": "code",
   "execution_count": 0,
   "metadata": {
    "application/vnd.databricks.v1+cell": {
     "cellMetadata": {
      "byteLimit": 2048000,
      "rowLimit": 10000
     },
     "inputWidgets": {},
     "nuid": "1b4d9985-6355-4a7f-9403-ee55a7da3d95",
     "showTitle": false,
     "tableResultSettingsMap": {},
     "title": ""
    }
   },
   "outputs": [
    {
     "output_type": "stream",
     "name": "stdout",
     "output_type": "stream",
     "text": [
      "+----------+-----+-----+-----+-----+-----+-------+-----+------+-----+\n|department|James| Jeff|  Jen|Kumar|Maria|Michael|Raman|Robert|Scott|\n+----------+-----+-----+-----+-----+-----+-------+-----+------+-----+\n|     Sales|90000| NULL| NULL| NULL| NULL|  86000| NULL| 81000| NULL|\n|   Finance| NULL| NULL|79000| NULL|90000|   NULL|99000|  NULL|83000|\n| Marketing| NULL|80000| NULL|91000| NULL|   NULL| NULL|  NULL| NULL|\n+----------+-----+-----+-----+-----+-----+-------+-----+------+-----+\n\n"
     ]
    }
   ],
   "source": [
    "#pivot\n",
    "df.groupBy('department').pivot(\"employee_name\").sum(\"salary\").show()"
   ]
  },
  {
   "cell_type": "code",
   "execution_count": 0,
   "metadata": {
    "application/vnd.databricks.v1+cell": {
     "cellMetadata": {
      "byteLimit": 2048000,
      "rowLimit": 10000
     },
     "inputWidgets": {},
     "nuid": "22e0bbf1-2c5d-4209-8a9a-531a0ee119f5",
     "showTitle": false,
     "tableResultSettingsMap": {},
     "title": ""
    }
   },
   "outputs": [
    {
     "output_type": "stream",
     "name": "stdout",
     "output_type": "stream",
     "text": [
      "+-------------+----------+-----+------+---+-----+\n|employee_name|department|state|salary|age|bonus|\n+-------------+----------+-----+------+---+-----+\n|        James|     Sales|   NY| 90000| 34|10000|\n|      Michael|     Sales|   NY| 86000| 56|20000|\n|       Robert|     Sales|   CA| 81000| 30|23000|\n|        Maria|   Finance|   CA| 90000| 24|23000|\n|        Raman|   Finance|   CA| 99000| 40|24000|\n+-------------+----------+-----+------+---+-----+\n\n"
     ]
    }
   ],
   "source": [
    "simpleData_with_nulls = [\n",
    "    (\"James\",\"Sales\",\"NY\",90000,34,10000), \n",
    "    (\"Michael\",\"Sales\",\"NY\",86000,56,20000), \n",
    "    (\"Robert\",\"Sales\",\"CA\",81000,30,23000), \n",
    "    (\"Maria\",\"Finance\",\"CA\",90000,24,23000), \n",
    "    (\"Raman\",\"Finance\",\"CA\",99000,40,24000), \n",
    "    (\"Scott\",\"Finance\",\"NY\",None,36,19000),  \n",
    "    (\"Jen\",\"Finance\",None,79000,53,15000),    \n",
    "    (\"Jeff\",\"Marketing\",\"CA\",80000,None,18000), \n",
    "    (None,\"Marketing\",\"NY\",91000,50,21000)     \n",
    "]\n",
    "\n",
    "\n",
    "schema = [\"employee_name\", \"department\", \"state\", \"salary\", \"age\", \"bonus\"]\n",
    "dfa = spark.createDataFrame(data=simpleData_with_nulls, schema=schema)\n",
    "\n",
    "#rows with null values are dropped\n",
    "dfa.na.drop().show()"
   ]
  },
  {
   "cell_type": "code",
   "execution_count": 0,
   "metadata": {
    "application/vnd.databricks.v1+cell": {
     "cellMetadata": {
      "byteLimit": 2048000,
      "rowLimit": 10000
     },
     "inputWidgets": {},
     "nuid": "50be89ca-f509-4ecf-9356-759881cde532",
     "showTitle": false,
     "tableResultSettingsMap": {},
     "title": ""
    }
   },
   "outputs": [
    {
     "output_type": "stream",
     "name": "stdout",
     "output_type": "stream",
     "text": [
      "+-------------+----------+-----+------+---+-----+\n|employee_name|department|state|salary|age|bonus|\n+-------------+----------+-----+------+---+-----+\n|        James|     Sales|   NY| 90000| 34|10000|\n|          Jen|   Finance|   NY| 79000| 53|15000|\n|         Jeff| Marketing|   CA| 80000| 25|18000|\n|        Scott|   Finance|   NY| 83000| 36|19000|\n|      Michael|     Sales|   NY| 86000| 56|20000|\n|        Kumar| Marketing|   NY| 91000| 50|21000|\n|        Maria|   Finance|   CA| 90000| 24|23000|\n|       Robert|     Sales|   CA| 81000| 30|23000|\n|        Raman|   Finance|   CA| 99000| 40|24000|\n+-------------+----------+-----+------+---+-----+\n\n+-------------+----------+-----+------+---+-----+\n|employee_name|department|state|salary|age|bonus|\n+-------------+----------+-----+------+---+-----+\n|        Raman|   Finance|   CA| 99000| 40|24000|\n|        Kumar| Marketing|   NY| 91000| 50|21000|\n|        Maria|   Finance|   CA| 90000| 24|23000|\n|        James|     Sales|   NY| 90000| 34|10000|\n|      Michael|     Sales|   NY| 86000| 56|20000|\n|        Scott|   Finance|   NY| 83000| 36|19000|\n|       Robert|     Sales|   CA| 81000| 30|23000|\n|         Jeff| Marketing|   CA| 80000| 25|18000|\n|          Jen|   Finance|   NY| 79000| 53|15000|\n+-------------+----------+-----+------+---+-----+\n\n"
     ]
    }
   ],
   "source": [
    "#sort\n",
    "df.sort('bonus').show()\n",
    "df.sort(df['salary'].desc()).show()"
   ]
  },
  {
   "cell_type": "code",
   "execution_count": 0,
   "metadata": {
    "application/vnd.databricks.v1+cell": {
     "cellMetadata": {
      "byteLimit": 2048000,
      "rowLimit": 10000
     },
     "inputWidgets": {},
     "nuid": "ba180ef3-d5a1-4cf0-a8fb-30988eb4223a",
     "showTitle": false,
     "tableResultSettingsMap": {},
     "title": ""
    }
   },
   "outputs": [
    {
     "output_type": "stream",
     "name": "stdout",
     "output_type": "stream",
     "text": [
      "+-------------+----------+-----+------+---+-----+\n|employee_name|department|state|salary|age|bonus|\n+-------------+----------+-----+------+---+-----+\n|          Jen|   Finance|   NY| 79000| 53|15000|\n|         Jeff| Marketing|   CA| 80000| 25|18000|\n|       Robert|     Sales|   CA| 81000| 30|23000|\n|        Scott|   Finance|   NY| 83000| 36|19000|\n|      Michael|     Sales|   NY| 86000| 56|20000|\n|        James|     Sales|   NY| 90000| 34|10000|\n|        Maria|   Finance|   CA| 90000| 24|23000|\n|        Kumar| Marketing|   NY| 91000| 50|21000|\n|        Raman|   Finance|   CA| 99000| 40|24000|\n+-------------+----------+-----+------+---+-----+\n\n"
     ]
    }
   ],
   "source": [
    "#orderBy\n",
    "df.orderBy('salary').show()"
   ]
  },
  {
   "cell_type": "code",
   "execution_count": 0,
   "metadata": {
    "application/vnd.databricks.v1+cell": {
     "cellMetadata": {},
     "inputWidgets": {},
     "nuid": "0f8c4b35-24e2-4b16-a403-528a654e95c0",
     "showTitle": false,
     "tableResultSettingsMap": {},
     "title": ""
    }
   },
   "outputs": [],
   "source": []
  }
 ],
 "metadata": {
  "application/vnd.databricks.v1+notebook": {
   "dashboards": [],
   "environmentMetadata": null,
   "language": "python",
   "notebookMetadata": {
    "pythonIndentUnit": 4
   },
   "notebookName": "Manipulating, Droping, Sorting, Aggregations, GroupBy, DataFrames",
   "widgets": {}
  }
 },
 "nbformat": 4,
 "nbformat_minor": 0
}
