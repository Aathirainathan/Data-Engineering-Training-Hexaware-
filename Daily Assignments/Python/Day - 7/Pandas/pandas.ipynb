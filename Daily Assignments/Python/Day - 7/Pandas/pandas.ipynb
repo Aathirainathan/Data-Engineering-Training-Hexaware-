{
 "cells": [
  {
   "cell_type": "code",
   "execution_count": 6,
   "id": "d95c7b28-d4c9-44fd-a44d-d2f6f0994403",
   "metadata": {},
   "outputs": [
    {
     "name": "stdout",
     "output_type": "stream",
     "text": [
      "0    1\n",
      "1    2\n",
      "2    3\n",
      "3    4\n",
      "dtype: int64\n"
     ]
    }
   ],
   "source": [
    "import pandas as pd\n",
    "\n",
    "# simple array\n",
    "data = [1, 2, 3, 4]\n",
    "ser = pd.Series(data)\n",
    "print(ser)\n"
   ]
  },
  {
   "cell_type": "code",
   "execution_count": 9,
   "id": "0932e7ec-09cf-4055-a83e-b49e9c3e8488",
   "metadata": {},
   "outputs": [
    {
     "name": "stdout",
     "output_type": "stream",
     "text": [
      "data is inserted\n"
     ]
    }
   ],
   "source": [
    "import pandas as pd \n",
    "\n",
    "filename = r'C:\\Users\\pumak\\OneDrive\\Desktop\\Data Engineering Hexaware\\Daily Assignments\\Python\\Day - 6\\salary_data.csv'\n",
    "header = ['Name', 'M1 Score', 'M2 Score']\n",
    "data = [['Alex', 62, 80], ['Brad', 45, 56], ['Joey', 85, 98]]\n",
    "data = pd.DataFrame(data, columns=header)\n",
    "data.to_csv('student_data.csv', index=False)\n",
    "print(\"data is inserted\")\n"
   ]
  },
  {
   "cell_type": "code",
   "execution_count": null,
   "id": "05864b0c-204f-44ba-b2f4-37f2fb2c4887",
   "metadata": {},
   "outputs": [],
   "source": []
  }
 ],
 "metadata": {
  "kernelspec": {
   "display_name": "Python 3 (ipykernel)",
   "language": "python",
   "name": "python3"
  },
  "language_info": {
   "codemirror_mode": {
    "name": "ipython",
    "version": 3
   },
   "file_extension": ".py",
   "mimetype": "text/x-python",
   "name": "python",
   "nbconvert_exporter": "python",
   "pygments_lexer": "ipython3",
   "version": "3.12.6"
  }
 },
 "nbformat": 4,
 "nbformat_minor": 5
}
