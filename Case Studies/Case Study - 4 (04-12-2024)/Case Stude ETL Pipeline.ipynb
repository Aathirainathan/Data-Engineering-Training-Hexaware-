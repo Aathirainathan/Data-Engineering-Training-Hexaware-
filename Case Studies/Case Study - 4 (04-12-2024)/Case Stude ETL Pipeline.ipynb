{
 "cells": [
  {
   "cell_type": "code",
   "execution_count": 0,
   "metadata": {
    "application/vnd.databricks.v1+cell": {
     "cellMetadata": {
      "byteLimit": 2048000,
      "rowLimit": 10000
     },
     "inputWidgets": {},
     "nuid": "8be2bee1-72fc-4f75-ad5c-090021245bbc",
     "showTitle": false,
     "tableResultSettingsMap": {},
     "title": ""
    }
   },
   "outputs": [
    {
     "output_type": "stream",
     "name": "stdout",
     "output_type": "stream",
     "text": [
      "Customer Data:\n+---------+------------------+--------------------+-----------+---------------+---------+------------+--------------------+\n|c_custkey|            c_name|           c_address|c_nationkey|        c_phone|c_acctbal|c_mktsegment|           c_comment|\n+---------+------------------+--------------------+-----------+---------------+---------+------------+--------------------+\n|   412445|Customer#000412445|0QAB3OjYnbP6mA0B,kgf|         21|31-421-403-4333|  5358.33|    BUILDING|arefully blithely...|\n|   412446|Customer#000412446|5u8MSbyiC7J,7PuY4...|         20|30-487-949-7942|  9441.59|   MACHINERY|sleep according t...|\n|   412447|Customer#000412447|HC4ZT62gKPgrjr ce...|          7|17-797-466-6308|  7868.75|  AUTOMOBILE|aggle blithely am...|\n|   412448|Customer#000412448|         hJok1MMrDgH|          6|16-541-510-4964|  6060.98|   MACHINERY|ly silent request...|\n|   412449|Customer#000412449|zAt1nZNG01gOhIqgy...|         14|24-710-983-5536|  4973.84|   HOUSEHOLD|refully final the...|\n+---------+------------------+--------------------+-----------+---------------+---------+------------+--------------------+\nonly showing top 5 rows\n\nOrders Data:\n+----------+---------+-------------+------------+-----------+---------------+---------------+--------------+--------------------+\n|o_orderkey|o_custkey|o_orderstatus|o_totalprice|o_orderdate|o_orderpriority|        o_clerk|o_shippriority|           o_comment|\n+----------+---------+-------------+------------+-----------+---------------+---------------+--------------+--------------------+\n|  13710944|   227285|            O|   162169.66| 1995-10-11|       1-URGENT|Clerk#000000432|             0|accounts. ruthles...|\n|  13710945|   225010|            O|   252273.67| 1997-09-29|          5-LOW|Clerk#000002337|             0|ironic platelets ...|\n|  13710946|   238820|            O|   179947.16| 1997-10-31|         2-HIGH|Clerk#000004135|             0|ole requests. reg...|\n|  13710947|   581233|            O|    33843.49| 1995-05-25|         2-HIGH|Clerk#000000138|             0|arefully final pl...|\n|  13710948|    10033|            O|    42500.65| 1995-09-04|4-NOT SPECIFIED|Clerk#000003398|             0|regular requests ...|\n+----------+---------+-------------+------------+-----------+---------------+---------------+--------------+--------------------+\nonly showing top 5 rows\n\n"
     ]
    }
   ],
   "source": [
    "from pyspark.sql import SparkSession\n",
    "\n",
    "# Initialize Spark session\n",
    "spark = SparkSession.builder.appName(\"TL_Pipeline\").getOrCreate()\n",
    "\n",
    "\n",
    "# Ingestion\n",
    "customer_df = spark.read.format(\"delta\").load(\"dbfs:/databricks-datasets/tpch/delta-001/customer\")\n",
    "orders_df = spark.read.format(\"delta\").load(\"dbfs:/databricks-datasets/tpch/delta-001/orders\")\n",
    "\n",
    "# Display the data\n",
    "print(\"Customer Data:\")\n",
    "customer_df.show(5)\n",
    "\n",
    "print(\"Orders Data:\")\n",
    "orders_df.show(5)\n"
   ]
  },
  {
   "cell_type": "code",
   "execution_count": 0,
   "metadata": {
    "application/vnd.databricks.v1+cell": {
     "cellMetadata": {},
     "inputWidgets": {},
     "nuid": "5fbd1bca-3549-4f01-b6a2-da59f33f8314",
     "showTitle": false,
     "tableResultSettingsMap": {},
     "title": ""
    }
   },
   "outputs": [],
   "source": [
    "#Transformation"
   ]
  },
  {
   "cell_type": "code",
   "execution_count": 0,
   "metadata": {
    "application/vnd.databricks.v1+cell": {
     "cellMetadata": {
      "byteLimit": 2048000,
      "rowLimit": 10000
     },
     "inputWidgets": {},
     "nuid": "ceff1990-fedc-4f48-880a-fdf74d6e205d",
     "showTitle": false,
     "tableResultSettingsMap": {},
     "title": ""
    }
   },
   "outputs": [
    {
     "output_type": "stream",
     "name": "stdout",
     "output_type": "stream",
     "text": [
      "+---------+------------------+--------------------+-----------+---------------+---------+------------+--------------------+\n|c_custkey|            c_name|           c_address|c_nationkey|        c_phone|c_acctbal|c_mktsegment|           c_comment|\n+---------+------------------+--------------------+-----------+---------------+---------+------------+--------------------+\n|   412445|Customer#000412445|0QAB3OjYnbP6mA0B,kgf|         21|31-421-403-4333|  5358.33|    BUILDING|arefully blithely...|\n|   412446|Customer#000412446|5u8MSbyiC7J,7PuY4...|         20|30-487-949-7942|  9441.59|   MACHINERY|sleep according t...|\n|   412447|Customer#000412447|HC4ZT62gKPgrjr ce...|          7|17-797-466-6308|  7868.75|  AUTOMOBILE|aggle blithely am...|\n|   412448|Customer#000412448|         hJok1MMrDgH|          6|16-541-510-4964|  6060.98|   MACHINERY|ly silent request...|\n|   412449|Customer#000412449|zAt1nZNG01gOhIqgy...|         14|24-710-983-5536|  4973.84|   HOUSEHOLD|refully final the...|\n+---------+------------------+--------------------+-----------+---------------+---------+------------+--------------------+\nonly showing top 5 rows\n\n"
     ]
    }
   ],
   "source": [
    "# Clean column names\n",
    "cleaned_customer_df = customer_df.toDF(*(c.replace(\" \", \"_\").lower() for c in customer_df.columns))\n",
    "cleaned_customer_df.show(5)\n"
   ]
  },
  {
   "cell_type": "code",
   "execution_count": 0,
   "metadata": {
    "application/vnd.databricks.v1+cell": {
     "cellMetadata": {
      "byteLimit": 2048000,
      "rowLimit": 10000
     },
     "inputWidgets": {},
     "nuid": "713030c0-25f8-4390-b595-00116747e615",
     "showTitle": false,
     "tableResultSettingsMap": {},
     "title": ""
    }
   },
   "outputs": [
    {
     "output_type": "stream",
     "name": "stdout",
     "output_type": "stream",
     "text": [
      "+----------+---------+-------------+------------+-----------+---------------+---------------+--------------+--------------------+\n|o_orderkey|o_custkey|o_orderstatus|o_totalprice|o_orderdate|o_orderpriority|        o_clerk|o_shippriority|           o_comment|\n+----------+---------+-------------+------------+-----------+---------------+---------------+--------------+--------------------+\n|  13710944|   227285|            O|   162169.66| 1995-10-11|       1-URGENT|Clerk#000000432|             0|accounts. ruthles...|\n|  13710945|   225010|            O|   252273.67| 1997-09-29|          5-LOW|Clerk#000002337|             0|ironic platelets ...|\n|  13710946|   238820|            O|   179947.16| 1997-10-31|         2-HIGH|Clerk#000004135|             0|ole requests. reg...|\n|  13710947|   581233|            O|    33843.49| 1995-05-25|         2-HIGH|Clerk#000000138|             0|arefully final pl...|\n|  13710948|    10033|            O|    42500.65| 1995-09-04|4-NOT SPECIFIED|Clerk#000003398|             0|regular requests ...|\n+----------+---------+-------------+------------+-----------+---------------+---------------+--------------+--------------------+\nonly showing top 5 rows\n\n"
     ]
    }
   ],
   "source": [
    "from pyspark.sql.functions import col\n",
    "\n",
    "# Remove rows with null values in 'o_totalprice' column\n",
    "cleaned_orders_df = orders_df.filter(col(\"o_totalprice\").isNotNull())\n",
    "cleaned_orders_df.show(5)\n"
   ]
  },
  {
   "cell_type": "code",
   "execution_count": 0,
   "metadata": {
    "application/vnd.databricks.v1+cell": {
     "cellMetadata": {
      "byteLimit": 2048000,
      "rowLimit": 10000
     },
     "inputWidgets": {},
     "nuid": "05c9114e-807c-42a2-a8f1-a371da8b328c",
     "showTitle": false,
     "tableResultSettingsMap": {},
     "title": ""
    }
   },
   "outputs": [
    {
     "output_type": "stream",
     "name": "stdout",
     "output_type": "stream",
     "text": [
      "+----------+---------+-------------+------------+-----------+---------------+---------------+--------------+--------------------+\n|o_orderkey|o_custkey|o_orderstatus|o_totalprice|o_orderdate|o_orderpriority|        o_clerk|o_shippriority|           o_comment|\n+----------+---------+-------------+------------+-----------+---------------+---------------+--------------+--------------------+\n|  13710944|   227285|            O|   162169.66| 1995-10-11|       1-URGENT|Clerk#000000432|             0|accounts. ruthles...|\n|  13710945|   225010|            O|   252273.67| 1997-09-29|          5-LOW|Clerk#000002337|             0|ironic platelets ...|\n|  13710946|   238820|            O|   179947.16| 1997-10-31|         2-HIGH|Clerk#000004135|             0|ole requests. reg...|\n|  13710947|   581233|            O|    33843.49| 1995-05-25|         2-HIGH|Clerk#000000138|             0|arefully final pl...|\n|  13710948|    10033|            O|    42500.65| 1995-09-04|4-NOT SPECIFIED|Clerk#000003398|             0|regular requests ...|\n+----------+---------+-------------+------------+-----------+---------------+---------------+--------------+--------------------+\nonly showing top 5 rows\n\n"
     ]
    }
   ],
   "source": [
    "from pyspark.sql.functions import col, to_date\n",
    "\n",
    "# Convert order date column to Date type\n",
    "orders_df = orders_df.withColumn(\"o_orderdate\", to_date(col(\"o_orderdate\"), \"yyyy-MM-dd\"))\n",
    "orders_df.show(5)\n",
    "\n"
   ]
  },
  {
   "cell_type": "code",
   "execution_count": 0,
   "metadata": {
    "application/vnd.databricks.v1+cell": {
     "cellMetadata": {
      "byteLimit": 2048000,
      "rowLimit": 10000
     },
     "inputWidgets": {},
     "nuid": "d62657fc-1a26-40e7-a657-b54971bca65e",
     "showTitle": false,
     "tableResultSettingsMap": {},
     "title": ""
    }
   },
   "outputs": [
    {
     "output_type": "stream",
     "name": "stdout",
     "output_type": "stream",
     "text": [
      "+---------+------------------+--------------------+-----------+---------------+---------+------------+--------------------+\n|c_custkey|            c_name|           c_address|c_nationkey|        c_phone|c_acctbal|c_mktsegment|           c_comment|\n+---------+------------------+--------------------+-----------+---------------+---------+------------+--------------------+\n|        6|Customer#000000006|sKZz0CsnMD7mp4Xd0...|         20|30-114-968-4951|  7638.57|  AUTOMOBILE|tions. even depos...|\n|        7|Customer#000000007|TcGe5gaZNgVePxU5k...|         18|28-190-982-9759|  9561.95|  AUTOMOBILE|ainst the ironic,...|\n|       19|Customer#000000019|uc,3bHIx84H,wdrmL...|         18|28-396-526-5053|  8914.71|   HOUSEHOLD| nag. furiously c...|\n|       22|Customer#000000022|QI6p41,FNs5k7RZoC...|          3|13-806-545-9701|   591.98|   MACHINERY|s nod furiously a...|\n|       25|Customer#000000025|Hp8GyFQgGHFYSilH5...|         12|22-603-468-3533|  7133.70|   FURNITURE|y. accounts sleep...|\n+---------+------------------+--------------------+-----------+---------------+---------+------------+--------------------+\nonly showing top 5 rows\n\n"
     ]
    }
   ],
   "source": [
    "# Remove duplicates based on customer key\n",
    "unique_customers = customer_df.dropDuplicates([\"c_custkey\"])\n",
    "unique_customers.show(5)\n"
   ]
  },
  {
   "cell_type": "code",
   "execution_count": 0,
   "metadata": {
    "application/vnd.databricks.v1+cell": {
     "cellMetadata": {
      "byteLimit": 2048000,
      "rowLimit": 10000
     },
     "inputWidgets": {},
     "nuid": "fca7027a-ea44-4ffa-8f99-1e4538a63706",
     "showTitle": false,
     "tableResultSettingsMap": {},
     "title": ""
    }
   },
   "outputs": [
    {
     "output_type": "stream",
     "name": "stdout",
     "output_type": "stream",
     "text": [
      "+----------+---------+-------------+------------+-----------+---------------+---------------+--------------+--------------------+\n|o_orderkey|o_custkey|o_orderstatus|o_totalprice|o_orderdate|o_orderpriority|        o_clerk|o_shippriority|           o_comment|\n+----------+---------+-------------+------------+-----------+---------------+---------------+--------------+--------------------+\n|  13710944|   227285|            O|   162169.66| 1995-10-11|       1-URGENT|Clerk#000000432|             0|accounts. ruthles...|\n|  13710947|   581233|            O|    33843.49| 1995-05-25|         2-HIGH|Clerk#000000138|             0|arefully final pl...|\n|  13710948|    10033|            O|    42500.65| 1995-09-04|4-NOT SPECIFIED|Clerk#000003398|             0|regular requests ...|\n|  13710949|   615502|            O|    48225.35| 1995-07-13|       3-MEDIUM|Clerk#000004639|             0|ate quickly along...|\n|  13711044|   254206|            O|   243977.92| 1995-11-07|          5-LOW|Clerk#000001680|             0|ial, ironic pinto...|\n+----------+---------+-------------+------------+-----------+---------------+---------------+--------------+--------------------+\nonly showing top 5 rows\n\n"
     ]
    }
   ],
   "source": [
    "# Filter orders for the year 1995\n",
    "orders_1995 = orders_df.filter(col(\"o_orderdate\").like(\"1995%\"))\n",
    "orders_1995.show(5)"
   ]
  },
  {
   "cell_type": "code",
   "execution_count": 0,
   "metadata": {
    "application/vnd.databricks.v1+cell": {
     "cellMetadata": {
      "byteLimit": 2048000,
      "rowLimit": 10000
     },
     "inputWidgets": {},
     "nuid": "256e134f-7385-4f53-a2db-6a3a4d0f3bb8",
     "showTitle": false,
     "tableResultSettingsMap": {},
     "title": ""
    }
   },
   "outputs": [
    {
     "output_type": "stream",
     "name": "stdout",
     "output_type": "stream",
     "text": [
      "+----------+---------+-------------+------------+-----------+---------------+---------------+--------------+--------------------+---------+\n|o_orderkey|o_custkey|o_orderstatus|o_totalprice|o_orderdate|o_orderpriority|        o_clerk|o_shippriority|           o_comment|  revenue|\n+----------+---------+-------------+------------+-----------+---------------+---------------+--------------+--------------------+---------+\n|  13710944|   227285|            O|   162169.66| 1995-10-11|       1-URGENT|Clerk#000000432|             0|accounts. ruthles...|162169.66|\n|  13710945|   225010|            O|   252273.67| 1997-09-29|          5-LOW|Clerk#000002337|             0|ironic platelets ...|252273.67|\n|  13710946|   238820|            O|   179947.16| 1997-10-31|         2-HIGH|Clerk#000004135|             0|ole requests. reg...|179947.16|\n|  13710947|   581233|            O|    33843.49| 1995-05-25|         2-HIGH|Clerk#000000138|             0|arefully final pl...| 33843.49|\n|  13710948|    10033|            O|    42500.65| 1995-09-04|4-NOT SPECIFIED|Clerk#000003398|             0|regular requests ...| 42500.65|\n|  13710949|   615502|            O|    48225.35| 1995-07-13|       3-MEDIUM|Clerk#000004639|             0|ate quickly along...| 48225.35|\n|  13710950|   710665|            F|   265761.00| 1992-11-29|         2-HIGH|Clerk#000000735|             0|, sly ideas among...|     NULL|\n|  13710951|   382528|            F|   137666.86| 1993-05-21|          5-LOW|Clerk#000000777|             0|. blithely pendin...|     NULL|\n|  13710976|   122618|            O|   158725.42| 1998-03-06|4-NOT SPECIFIED|Clerk#000001281|             0|ages. final packa...|158725.42|\n|  13710977|   575623|            O|   178703.66| 1998-05-04|          5-LOW|Clerk#000003371|             0|, final requests ...|178703.66|\n+----------+---------+-------------+------------+-----------+---------------+---------------+--------------+--------------------+---------+\nonly showing top 10 rows\n\n"
     ]
    }
   ],
   "source": [
    "# Calculate total revenue per order \n",
    "from pyspark.sql.functions import when, col\n",
    "\n",
    "orders_with_revenue = orders_df.withColumn(\n",
    "    \"revenue\", \n",
    "    when(col(\"o_orderstatus\") == \"O\", col(\"o_totalprice\")).otherwise(None)\n",
    ")\n",
    "\n",
    "# Show the result\n",
    "orders_with_revenue.show(10)\n",
    "\n"
   ]
  },
  {
   "cell_type": "code",
   "execution_count": 0,
   "metadata": {
    "application/vnd.databricks.v1+cell": {
     "cellMetadata": {
      "byteLimit": 2048000,
      "rowLimit": 10000
     },
     "inputWidgets": {},
     "nuid": "9e2cadbd-f888-4197-8575-81ce91706271",
     "showTitle": false,
     "tableResultSettingsMap": {},
     "title": ""
    }
   },
   "outputs": [
    {
     "output_type": "stream",
     "name": "stdout",
     "output_type": "stream",
     "text": [
      "+---------+------------+\n|o_custkey|total_orders|\n+---------+------------+\n|   105784|          18|\n|   215485|          27|\n|    51418|          13|\n|   212203|          18|\n|   295565|          13|\n+---------+------------+\nonly showing top 5 rows\n\n"
     ]
    }
   ],
   "source": [
    "from pyspark.sql.functions import count\n",
    "\n",
    "# Aggregate data to calculate total orders per customer\n",
    "customer_order_count = orders_df.groupBy(\"o_custkey\").agg(count(\"o_orderkey\").alias(\"total_orders\"))\n",
    "customer_order_count.show(5)\n"
   ]
  },
  {
   "cell_type": "code",
   "execution_count": 0,
   "metadata": {
    "application/vnd.databricks.v1+cell": {
     "cellMetadata": {
      "byteLimit": 2048000,
      "rowLimit": 10000
     },
     "inputWidgets": {},
     "nuid": "b8292ca2-3ea4-46cc-aa5f-e06617f429db",
     "showTitle": false,
     "tableResultSettingsMap": {},
     "title": ""
    }
   },
   "outputs": [
    {
     "output_type": "stream",
     "name": "stdout",
     "output_type": "stream",
     "text": [
      "+---------+------------------+--------------------+-----------+---------------+---------+------------+--------------------+----------+---------+-------------+------------+-----------+---------------+---------------+--------------+--------------------+\n|c_custkey|            c_name|           c_address|c_nationkey|        c_phone|c_acctbal|c_mktsegment|           c_comment|o_orderkey|o_custkey|o_orderstatus|o_totalprice|o_orderdate|o_orderpriority|        o_clerk|o_shippriority|           o_comment|\n+---------+------------------+--------------------+-----------+---------------+---------+------------+--------------------+----------+---------+-------------+------------+-----------+---------------+---------------+--------------+--------------------+\n|        7|Customer#000000007|TcGe5gaZNgVePxU5k...|         18|28-190-982-9759|  9561.95|  AUTOMOBILE|ainst the ironic,...|  13949350|        7|            O|   217862.05| 1997-12-05|          5-LOW|Clerk#000001887|             0|uthless requests....|\n|        7|Customer#000000007|TcGe5gaZNgVePxU5k...|         18|28-190-982-9759|  9561.95|  AUTOMOBILE|ainst the ironic,...|   7325473|        7|            F|   111957.12| 1992-05-30|       3-MEDIUM|Clerk#000000446|             0|tes. furiously ir...|\n|        7|Customer#000000007|TcGe5gaZNgVePxU5k...|         18|28-190-982-9759|  9561.95|  AUTOMOBILE|ainst the ironic,...|  25815556|        7|            F|   212906.99| 1992-10-03|4-NOT SPECIFIED|Clerk#000004413|             0|refully pinto bea...|\n|        7|Customer#000000007|TcGe5gaZNgVePxU5k...|         18|28-190-982-9759|  9561.95|  AUTOMOBILE|ainst the ironic,...|  13668358|        7|            O|   173327.17| 1997-08-23|4-NOT SPECIFIED|Clerk#000004723|             0|d waters sleep ev...|\n|        7|Customer#000000007|TcGe5gaZNgVePxU5k...|         18|28-190-982-9759|  9561.95|  AUTOMOBILE|ainst the ironic,...|  29797575|        7|            F|    71906.44| 1994-02-06|       3-MEDIUM|Clerk#000004415|             0|sts-- deposits al...|\n+---------+------------------+--------------------+-----------+---------------+---------+------------+--------------------+----------+---------+-------------+------------+-----------+---------------+---------------+--------------+--------------------+\nonly showing top 5 rows\n\n"
     ]
    }
   ],
   "source": [
    "# Join customer and orders data\n",
    "customer_orders = customer_df.join(orders_df, customer_df[\"c_custkey\"] == orders_df[\"o_custkey\"], \"inner\")\n",
    "customer_orders.show(5)\n"
   ]
  },
  {
   "cell_type": "code",
   "execution_count": 0,
   "metadata": {
    "application/vnd.databricks.v1+cell": {
     "cellMetadata": {
      "byteLimit": 2048000,
      "rowLimit": 10000
     },
     "inputWidgets": {},
     "nuid": "a57bbd66-01f5-40bd-b094-e2f825964b99",
     "showTitle": false,
     "tableResultSettingsMap": {},
     "title": ""
    }
   },
   "outputs": [
    {
     "output_type": "stream",
     "name": "stdout",
     "output_type": "stream",
     "text": [
      "+----+-----+--------------+\n|year|month|   total_sales|\n+----+-----+--------------+\n|1997|   11|14008155122.62|\n|1998|    2|13231342086.42|\n|1995|   12|14569536356.53|\n|1998|    7|14615808096.95|\n|1994|    3|14584304371.16|\n+----+-----+--------------+\nonly showing top 5 rows\n\n"
     ]
    }
   ],
   "source": [
    "from pyspark.sql.functions import col, year, month, sum\n",
    "\n",
    "# Group orders by year and month to calculate total sales\n",
    "orders_by_month = orders_df.groupBy(year(col(\"o_orderdate\")).alias(\"year\"), month(col(\"o_orderdate\")).alias(\"month\")) \\\n",
    "                            .agg(sum(\"o_totalprice\").alias(\"total_sales\"))\n",
    "orders_by_month.show(5)\n"
   ]
  },
  {
   "cell_type": "code",
   "execution_count": 0,
   "metadata": {
    "application/vnd.databricks.v1+cell": {
     "cellMetadata": {
      "byteLimit": 2048000,
      "rowLimit": 10000
     },
     "inputWidgets": {},
     "nuid": "5600e09b-1b22-483a-a290-6453116a5409",
     "showTitle": false,
     "tableResultSettingsMap": {},
     "title": ""
    }
   },
   "outputs": [
    {
     "output_type": "stream",
     "name": "stdout",
     "output_type": "stream",
     "text": [
      "+----------+---------+-------------+------------+-----------+---------------+---------------+--------------+--------------------+\n|o_orderkey|o_custkey|o_orderstatus|o_totalprice|o_orderdate|o_orderpriority|        o_clerk|o_shippriority|           o_comment|\n+----------+---------+-------------+------------+-----------+---------------+---------------+--------------+--------------------+\n|   5640354|   292904|            F|    82036.60| 1992-01-01|4-NOT SPECIFIED|Clerk#000000575|             0|xes. ironic, spec...|\n|  13743521|   228632|            F|   186961.35| 1992-01-01|       3-MEDIUM|Clerk#000000594|             0|s boost boldly bo...|\n|  11463840|   207124|            F|   215760.02| 1992-01-01|       3-MEDIUM|Clerk#000004807|             0| along the blithe...|\n|  13792930|   716917|            F|   192238.45| 1992-01-01|         2-HIGH|Clerk#000003787|             0|ily against the b...|\n|   5663939|   249938|            F|   196815.58| 1992-01-01|         2-HIGH|Clerk#000004884|             0| deposits nag bli...|\n+----------+---------+-------------+------------+-----------+---------------+---------------+--------------+--------------------+\nonly showing top 5 rows\n\n"
     ]
    }
   ],
   "source": [
    "from pyspark.sql.functions import col\n",
    "\n",
    "# Filter orders with total price greater than a specific value and sort by order date\n",
    "filtered_orders_df = orders_df.filter(col(\"o_totalprice\") > 1000) \\\n",
    "                               .orderBy(col(\"o_orderdate\"))\n",
    "\n",
    "filtered_orders_df.show(5)\n"
   ]
  },
  {
   "cell_type": "code",
   "execution_count": 0,
   "metadata": {
    "application/vnd.databricks.v1+cell": {
     "cellMetadata": {},
     "inputWidgets": {},
     "nuid": "c4d12950-a99c-4d89-bf9e-c02941016953",
     "showTitle": false,
     "tableResultSettingsMap": {},
     "title": ""
    }
   },
   "outputs": [],
   "source": [
    "#Load"
   ]
  },
  {
   "cell_type": "code",
   "execution_count": 0,
   "metadata": {
    "application/vnd.databricks.v1+cell": {
     "cellMetadata": {
      "byteLimit": 2048000,
      "rowLimit": 10000
     },
     "inputWidgets": {},
     "nuid": "07ee5a42-ccab-4d8b-aeae-af49079da0db",
     "showTitle": false,
     "tableResultSettingsMap": {},
     "title": ""
    }
   },
   "outputs": [
    {
     "output_type": "stream",
     "name": "stdout",
     "output_type": "stream",
     "text": [
      "+----------+---------+-------------+------------+-----------+---------------+---------------+--------------+--------------------+\n|o_orderkey|o_custkey|o_orderstatus|o_totalprice|o_orderdate|o_orderpriority|        o_clerk|o_shippriority|           o_comment|\n+----------+---------+-------------+------------+-----------+---------------+---------------+--------------+--------------------+\n|  13716320|   428330|            F|   116124.79| 1992-01-01|       3-MEDIUM|Clerk#000004084|             0| foxes. slyly reg...|\n|  13716672|   717422|            F|    56846.82| 1992-01-01|          5-LOW|Clerk#000003115|             0|fily after the ca...|\n|  13717345|     3418|            F|    34274.24| 1992-01-01|          5-LOW|Clerk#000003832|             0|s. even theodolit...|\n|  13723650|   101623|            F|   120543.82| 1992-01-01|          5-LOW|Clerk#000004494|             0|ar, bold pearls i...|\n|  13742627|   540439|            F|    20629.17| 1992-01-01|       1-URGENT|Clerk#000003682|             0|y special instruc...|\n+----------+---------+-------------+------------+-----------+---------------+---------------+--------------+--------------------+\nonly showing top 5 rows\n\n"
     ]
    }
   ],
   "source": [
    "# Specify the output path for the transformed data\n",
    "output_path = \"dbfs:/mnt/mount/tpch_filtered_orders_delta\" \n",
    "\n",
    "# Write the filtered orders data in Delta format\n",
    "filtered_orders_df.write.format(\"delta\").mode(\"overwrite\").save(output_path)\n",
    "\n",
    "# To confirm, read the data back\n",
    "filtered_orders_df_loaded = spark.read.format(\"delta\").load(output_path)\n",
    "filtered_orders_df_loaded.show(5)\n"
   ]
  },
  {
   "cell_type": "code",
   "execution_count": 0,
   "metadata": {
    "application/vnd.databricks.v1+cell": {
     "cellMetadata": {
      "byteLimit": 2048000,
      "rowLimit": 10000
     },
     "inputWidgets": {},
     "nuid": "2499a3f9-f17b-4c59-b376-040eaa8e0d5d",
     "showTitle": false,
     "tableResultSettingsMap": {},
     "title": ""
    }
   },
   "outputs": [
    {
     "output_type": "stream",
     "name": "stdout",
     "output_type": "stream",
     "text": [
      "+---------+------------------+--------------------+-----------+---------------+---------+------------+--------------------+----------+---------+-------------+------------+-----------+---------------+---------------+--------------+--------------------+\n|c_custkey|            c_name|           c_address|c_nationkey|        c_phone|c_acctbal|c_mktsegment|           c_comment|o_orderkey|o_custkey|o_orderstatus|o_totalprice|o_orderdate|o_orderpriority|        o_clerk|o_shippriority|           o_comment|\n+---------+------------------+--------------------+-----------+---------------+---------+------------+--------------------+----------+---------+-------------+------------+-----------+---------------+---------------+--------------+--------------------+\n|        7|Customer#000000007|TcGe5gaZNgVePxU5k...|         18|28-190-982-9759|  9561.95|  AUTOMOBILE|ainst the ironic,...|  13949350|        7|            O|   217862.05| 1997-12-05|          5-LOW|Clerk#000001887|             0|uthless requests....|\n|        7|Customer#000000007|TcGe5gaZNgVePxU5k...|         18|28-190-982-9759|  9561.95|  AUTOMOBILE|ainst the ironic,...|   7325473|        7|            F|   111957.12| 1992-05-30|       3-MEDIUM|Clerk#000000446|             0|tes. furiously ir...|\n|        7|Customer#000000007|TcGe5gaZNgVePxU5k...|         18|28-190-982-9759|  9561.95|  AUTOMOBILE|ainst the ironic,...|  25815556|        7|            F|   212906.99| 1992-10-03|4-NOT SPECIFIED|Clerk#000004413|             0|refully pinto bea...|\n|        7|Customer#000000007|TcGe5gaZNgVePxU5k...|         18|28-190-982-9759|  9561.95|  AUTOMOBILE|ainst the ironic,...|  13668358|        7|            O|   173327.17| 1997-08-23|4-NOT SPECIFIED|Clerk#000004723|             0|d waters sleep ev...|\n|        7|Customer#000000007|TcGe5gaZNgVePxU5k...|         18|28-190-982-9759|  9561.95|  AUTOMOBILE|ainst the ironic,...|  29797575|        7|            F|    71906.44| 1994-02-06|       3-MEDIUM|Clerk#000004415|             0|sts-- deposits al...|\n+---------+------------------+--------------------+-----------+---------------+---------+------------+--------------------+----------+---------+-------------+------------+-----------+---------------+---------------+--------------+--------------------+\nonly showing top 5 rows\n\n"
     ]
    }
   ],
   "source": [
    "# Specify the output path for the transformed data\n",
    "output_path = \"dbfs:/mnt/mount/customer_orders\"\n",
    "\n",
    "# Write the customer orders data in Delta format\n",
    "customer_orders.write.format(\"delta\").mode(\"overwrite\").save(output_path)\n",
    "\n",
    "# To confirm, read the data back\n",
    "customer_orders_loaded = spark.read.format(\"delta\").load(output_path)\n",
    "\n",
    "# Show the first 5 rows of the loaded Delta data\n",
    "customer_orders_loaded.show(5)\n"
   ]
  }
 ],
 "metadata": {
  "application/vnd.databricks.v1+notebook": {
   "dashboards": [],
   "environmentMetadata": {
    "base_environment": "",
    "client": "1"
   },
   "language": "python",
   "notebookMetadata": {
    "pythonIndentUnit": 4
   },
   "notebookName": "Case Stude ETL Pipeline",
   "widgets": {}
  },
  "language_info": {
   "name": "python"
  }
 },
 "nbformat": 4,
 "nbformat_minor": 0
}