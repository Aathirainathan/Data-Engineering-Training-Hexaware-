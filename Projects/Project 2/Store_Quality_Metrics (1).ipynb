{
 "cells": [
  {
   "cell_type": "code",
   "execution_count": 0,
   "metadata": {
    "application/vnd.databricks.v1+cell": {
     "cellMetadata": {
      "byteLimit": 2048000,
      "rowLimit": 10000
     },
     "inputWidgets": {},
     "nuid": "855f5d82-6cf8-43b0-be30-00be08ab2c54",
     "showTitle": false,
     "tableResultSettingsMap": {},
     "title": ""
    }
   },
   "outputs": [],
   "source": [
    "spark.conf.set(\"fs.azure.account.key.tokyoolympicdata99.dfs.core.windows.net\",\"cdXZOr2G1ZwwvTAMKDDUKBhFht6lR8TJbfUfvpecw9NntXlocw1FJlhWE2cd+ZgQuAE6+d/ZlHnb+AStlnfOZQ==\")"
   ]
  },
  {
   "cell_type": "code",
   "execution_count": 0,
   "metadata": {
    "application/vnd.databricks.v1+cell": {
     "cellMetadata": {
      "byteLimit": 2048000,
      "rowLimit": 10000
     },
     "inputWidgets": {},
     "nuid": "4ed37f50-9077-4ac1-84a7-76295e59f921",
     "showTitle": false,
     "tableResultSettingsMap": {},
     "title": ""
    }
   },
   "outputs": [
    {
     "output_type": "stream",
     "name": "stdout",
     "output_type": "stream",
     "text": [
      "Received Metrics Path:  \nTrigger Flag:  \nTrigger flag is not set. Exiting.\n"
     ]
    }
   ],
   "source": [
    "# Import dbutils to access parameters\n",
    "dbutils.widgets.text(\"metrics_path\", \"\")\n",
    "dbutils.widgets.text(\"trigger_flag\", \"false\")\n",
    "\n",
    "# Fetch parameter values\n",
    "metrics_path = dbutils.widgets.get(\"metrics_path\")\n",
    "trigger_flag = dbutils.widgets.get(\"trigger_flag\")\n",
    "\n",
    "print(\"Received Metrics Path: \", metrics_path)\n",
    "print(\"Trigger Flag: \", trigger_flag)\n",
    "\n",
    "# Verify metrics_path is valid and load data\n",
    "if trigger_flag == \"true\":\n",
    "    metrics_df = spark.read.format(\"csv\").option(\"header\", \"true\").load(metrics_path)\n",
    "    metrics_df.show()\n",
    "else:\n",
    "    print(\"Trigger flag is not set. Exiting.\")\n",
    "\n"
   ]
  },
  {
   "cell_type": "code",
   "execution_count": 0,
   "metadata": {
    "application/vnd.databricks.v1+cell": {
     "cellMetadata": {
      "byteLimit": 2048000,
      "rowLimit": 10000
     },
     "inputWidgets": {},
     "nuid": "3a1c259a-5ad0-4f14-987d-e165069e4c16",
     "showTitle": false,
     "tableResultSettingsMap": {},
     "title": ""
    }
   },
   "outputs": [
    {
     "output_type": "stream",
     "name": "stdout",
     "output_type": "stream",
     "text": [
      "Notebook 2 was not triggered properly.\n"
     ]
    }
   ],
   "source": [
    "# Import necessary libraries\n",
    "from pyspark.sql import SparkSession\n",
    "\n",
    "# Initialize Spark session\n",
    "spark = SparkSession.builder.appName(\"Store Quality Metrics\").getOrCreate()\n",
    "\n",
    "# Get parameters passed from Notebook 1\n",
    "dbutils.widgets.text(\"metrics_path\", \"\")\n",
    "dbutils.widgets.text(\"trigger_flag\", \"\")\n",
    "metrics_path = dbutils.widgets.get(\"metrics_path\")\n",
    "trigger_flag = dbutils.widgets.get(\"trigger_flag\")\n",
    "\n",
    "# Ensure the notebook is triggered correctly\n",
    "if trigger_flag == \"true\":\n",
    "    # Load consolidated metrics\n",
    "    quality_metrics_df = spark.read.csv(metrics_path, header=True, inferSchema=True)\n",
    "    \n",
    "    # Perform any additional operations or transformations if needed\n",
    "    quality_metrics_df.show()\n",
    "\n",
    "    # Save back to a monitored storage location or external system\n",
    "    final_metrics_path = \"abfss://tokyo-olympic-data@tokyoolympicdata99.dfs.core.windows.net/final-quality-metrics/\"\n",
    "    quality_metrics_df.write.format(\"csv\").mode(\"overwrite\").option(\"header\", \"true\").save(final_metrics_path)\n",
    "    \n",
    "    print(\"Quality metrics successfully stored in:\", final_metrics_path)\n",
    "else:\n",
    "    print(\"Notebook 2 was not triggered properly.\")\n"
   ]
  }
 ],
 "metadata": {
  "application/vnd.databricks.v1+notebook": {
   "computePreferences": null,
   "dashboards": [],
   "environmentMetadata": {
    "base_environment": "",
    "client": "1"
   },
   "language": "python",
   "notebookMetadata": {
    "pythonIndentUnit": 4
   },
   "notebookName": "Store_Quality_Metrics",
   "widgets": {
    "metrics_path": {
     "currentValue": "",
     "nuid": "774a1eff-8c1b-4808-9d41-4b827f37a356",
     "typedWidgetInfo": {
      "autoCreated": false,
      "defaultValue": "",
      "label": null,
      "name": "metrics_path",
      "options": {
       "widgetDisplayType": "Text",
       "validationRegex": null
      },
      "parameterDataType": "String"
     },
     "widgetInfo": {
      "widgetType": "text",
      "defaultValue": "",
      "label": null,
      "name": "metrics_path",
      "options": {
       "widgetType": "text",
       "autoCreated": null,
       "validationRegex": null
      }
     }
    },
    "trigger_flag": {
     "currentValue": "",
     "nuid": "b56820de-5b71-4b60-869b-989e7cf43edd",
     "typedWidgetInfo": {
      "autoCreated": false,
      "defaultValue": "false",
      "label": null,
      "name": "trigger_flag",
      "options": {
       "widgetDisplayType": "Text",
       "validationRegex": null
      },
      "parameterDataType": "String"
     },
     "widgetInfo": {
      "widgetType": "text",
      "defaultValue": "false",
      "label": null,
      "name": "trigger_flag",
      "options": {
       "widgetType": "text",
       "autoCreated": null,
       "validationRegex": null
      }
     }
    }
   }
  },
  "language_info": {
   "name": "python"
  }
 },
 "nbformat": 4,
 "nbformat_minor": 0
}